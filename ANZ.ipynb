{
 "cells": [
  {
   "cell_type": "code",
   "execution_count": 40,
   "metadata": {},
   "outputs": [],
   "source": [
    "import pandas as pd\n",
    "import numpy as np\n",
    "\n",
    "\n",
    "path=\"pathtodata\"\n"
   ]
  },
  {
   "cell_type": "code",
   "execution_count": 41,
   "metadata": {},
   "outputs": [],
   "source": [
    "data=pd.read_excel(path+\"ANZ synthesised transaction dataset.xlsx\")"
   ]
  },
  {
   "cell_type": "code",
   "execution_count": 42,
   "metadata": {},
   "outputs": [
    {
     "data": {
      "text/html": [
       "<div>\n",
       "<style scoped>\n",
       "    .dataframe tbody tr th:only-of-type {\n",
       "        vertical-align: middle;\n",
       "    }\n",
       "\n",
       "    .dataframe tbody tr th {\n",
       "        vertical-align: top;\n",
       "    }\n",
       "\n",
       "    .dataframe thead th {\n",
       "        text-align: right;\n",
       "    }\n",
       "</style>\n",
       "<table border=\"1\" class=\"dataframe\">\n",
       "  <thead>\n",
       "    <tr style=\"text-align: right;\">\n",
       "      <th></th>\n",
       "      <th>card_present_flag</th>\n",
       "      <th>merchant_code</th>\n",
       "      <th>balance</th>\n",
       "      <th>age</th>\n",
       "      <th>amount</th>\n",
       "    </tr>\n",
       "  </thead>\n",
       "  <tbody>\n",
       "    <tr>\n",
       "      <th>count</th>\n",
       "      <td>7717.000000</td>\n",
       "      <td>883.0</td>\n",
       "      <td>12043.000000</td>\n",
       "      <td>12043.000000</td>\n",
       "      <td>12043.000000</td>\n",
       "    </tr>\n",
       "    <tr>\n",
       "      <th>mean</th>\n",
       "      <td>0.802644</td>\n",
       "      <td>0.0</td>\n",
       "      <td>14704.195553</td>\n",
       "      <td>30.582330</td>\n",
       "      <td>187.933588</td>\n",
       "    </tr>\n",
       "    <tr>\n",
       "      <th>std</th>\n",
       "      <td>0.398029</td>\n",
       "      <td>0.0</td>\n",
       "      <td>31503.722652</td>\n",
       "      <td>10.046343</td>\n",
       "      <td>592.599934</td>\n",
       "    </tr>\n",
       "    <tr>\n",
       "      <th>min</th>\n",
       "      <td>0.000000</td>\n",
       "      <td>0.0</td>\n",
       "      <td>0.240000</td>\n",
       "      <td>18.000000</td>\n",
       "      <td>0.100000</td>\n",
       "    </tr>\n",
       "    <tr>\n",
       "      <th>25%</th>\n",
       "      <td>1.000000</td>\n",
       "      <td>0.0</td>\n",
       "      <td>3158.585000</td>\n",
       "      <td>22.000000</td>\n",
       "      <td>16.000000</td>\n",
       "    </tr>\n",
       "    <tr>\n",
       "      <th>50%</th>\n",
       "      <td>1.000000</td>\n",
       "      <td>0.0</td>\n",
       "      <td>6432.010000</td>\n",
       "      <td>28.000000</td>\n",
       "      <td>29.000000</td>\n",
       "    </tr>\n",
       "    <tr>\n",
       "      <th>75%</th>\n",
       "      <td>1.000000</td>\n",
       "      <td>0.0</td>\n",
       "      <td>12465.945000</td>\n",
       "      <td>38.000000</td>\n",
       "      <td>53.655000</td>\n",
       "    </tr>\n",
       "    <tr>\n",
       "      <th>max</th>\n",
       "      <td>1.000000</td>\n",
       "      <td>0.0</td>\n",
       "      <td>267128.520000</td>\n",
       "      <td>78.000000</td>\n",
       "      <td>8835.980000</td>\n",
       "    </tr>\n",
       "  </tbody>\n",
       "</table>\n",
       "</div>"
      ],
      "text/plain": [
       "       card_present_flag  merchant_code        balance           age  \\\n",
       "count        7717.000000          883.0   12043.000000  12043.000000   \n",
       "mean            0.802644            0.0   14704.195553     30.582330   \n",
       "std             0.398029            0.0   31503.722652     10.046343   \n",
       "min             0.000000            0.0       0.240000     18.000000   \n",
       "25%             1.000000            0.0    3158.585000     22.000000   \n",
       "50%             1.000000            0.0    6432.010000     28.000000   \n",
       "75%             1.000000            0.0   12465.945000     38.000000   \n",
       "max             1.000000            0.0  267128.520000     78.000000   \n",
       "\n",
       "             amount  \n",
       "count  12043.000000  \n",
       "mean     187.933588  \n",
       "std      592.599934  \n",
       "min        0.100000  \n",
       "25%       16.000000  \n",
       "50%       29.000000  \n",
       "75%       53.655000  \n",
       "max     8835.980000  "
      ]
     },
     "execution_count": 42,
     "metadata": {},
     "output_type": "execute_result"
    }
   ],
   "source": [
    "data.describe()"
   ]
  },
  {
   "cell_type": "code",
   "execution_count": 43,
   "metadata": {},
   "outputs": [],
   "source": [
    "data[\"extraction\"]=pd.to_datetime(data.extraction)\n",
    "data[\"extraction_month\"]=data.extraction.dt.month\n",
    "data[\"extraction_week\"]=data.extraction.dt.week\n"
   ]
  },
  {
   "cell_type": "code",
   "execution_count": 20,
   "metadata": {},
   "outputs": [
    {
     "data": {
      "text/plain": [
       "extraction_month\n",
       "8     185.121867\n",
       "9     182.045903\n",
       "10    196.427323\n",
       "Name: amount, dtype: float64"
      ]
     },
     "execution_count": 20,
     "metadata": {},
     "output_type": "execute_result"
    }
   ],
   "source": [
    "data.groupby([\"extraction_month\"]).amount.mean()"
   ]
  },
  {
   "cell_type": "code",
   "execution_count": 21,
   "metadata": {},
   "outputs": [
    {
     "data": {
      "text/plain": [
       "status\n",
       "authorized     40.153732\n",
       "posted        451.552901\n",
       "Name: amount, dtype: float64"
      ]
     },
     "execution_count": 21,
     "metadata": {},
     "output_type": "execute_result"
    }
   ],
   "source": [
    "data.groupby([\"status\"]).amount.mean()"
   ]
  },
  {
   "cell_type": "code",
   "execution_count": 22,
   "metadata": {},
   "outputs": [
    {
     "data": {
      "text/plain": [
       "gender\n",
       "F    168.517303\n",
       "M    205.721809\n",
       "Name: amount, dtype: float64"
      ]
     },
     "execution_count": 22,
     "metadata": {},
     "output_type": "execute_result"
    }
   ],
   "source": [
    "data.groupby([\"gender\"]).amount.mean()"
   ]
  },
  {
   "cell_type": "code",
   "execution_count": 29,
   "metadata": {},
   "outputs": [
    {
     "data": {
      "text/plain": [
       "age\n",
       "18    179.060271\n",
       "19    210.754286\n",
       "20    152.838471\n",
       "21    200.898963\n",
       "22    260.258170\n",
       "23    250.921942\n",
       "24    104.221571\n",
       "25    153.128427\n",
       "26     98.939406\n",
       "27    141.127156\n",
       "28    185.970314\n",
       "29    274.523358\n",
       "30    182.259419\n",
       "31    165.635098\n",
       "33    164.179137\n",
       "34    189.236108\n",
       "35    300.101667\n",
       "37    130.489420\n",
       "38    181.984211\n",
       "39    214.446855\n",
       "40    229.531932\n",
       "41    154.992231\n",
       "42    317.231595\n",
       "43    196.666554\n",
       "44    210.052813\n",
       "46    258.930000\n",
       "47    211.213636\n",
       "50    307.334318\n",
       "52    418.742468\n",
       "53    222.862603\n",
       "64    120.311591\n",
       "69    183.139412\n",
       "78    318.977941\n",
       "Name: amount, dtype: float64"
      ]
     },
     "execution_count": 29,
     "metadata": {},
     "output_type": "execute_result"
    }
   ],
   "source": [
    "mean_age=data.groupby([\"age\"]).amount.mean()\n",
    "mean_age"
   ]
  },
  {
   "cell_type": "code",
   "execution_count": 30,
   "metadata": {},
   "outputs": [
    {
     "data": {
      "text/plain": [
       "age\n",
       "52    418.742468\n",
       "Name: amount, dtype: float64"
      ]
     },
     "execution_count": 30,
     "metadata": {},
     "output_type": "execute_result"
    }
   ],
   "source": [
    "mean_age[mean_age==mean_age.max()] #binning\n"
   ]
  },
  {
   "cell_type": "code",
   "execution_count": 49,
   "metadata": {},
   "outputs": [
    {
     "name": "stderr",
     "output_type": "stream",
     "text": [
      "C:\\Users\\nmo58\\AppData\\Local\\Continuum\\anaconda3\\lib\\site-packages\\ipykernel_launcher.py:3: FutureWarning: The signature of `Series.to_csv` was aligned to that of `DataFrame.to_csv`, and argument 'header' will change its default value from False to True: please pass an explicit value to suppress this warning.\n",
      "  This is separate from the ipykernel package so we can avoid doing imports until\n"
     ]
    },
    {
     "data": {
      "image/png": "[encoded data removed]",
      "text/plain": [
       "<Figure size 432x288 with 1 Axes>"
      ]
     },
     "metadata": {
      "needs_background": "light"
     },
     "output_type": "display_data"
    }
   ],
   "source": [
    "import matplotlib.pyplot as plt\n",
    "transactio_perday= data.groupby(\"date\").amount.mean()\n",
    "transactio_perday.to_csv(path+\"per_day_amount.csv\")\n",
    "plt.scatter(transactio_perday.index,transactio_perday.values)\n",
    "plt.show()"
   ]
  },
  {
   "cell_type": "code",
   "execution_count": 50,
   "metadata": {},
   "outputs": [
    {
     "data": {
      "image/png": "[encoded data removed]",
      "text/plain": [
       "<Figure size 432x288 with 1 Axes>"
      ]
     },
     "metadata": {
      "needs_background": "light"
     },
     "output_type": "display_data"
    },
    {
     "name": "stderr",
     "output_type": "stream",
     "text": [
      "C:\\Users\\nmo58\\AppData\\Local\\Continuum\\anaconda3\\lib\\site-packages\\ipykernel_launcher.py:5: FutureWarning: The signature of `Series.to_csv` was aligned to that of `DataFrame.to_csv`, and argument 'header' will change its default value from False to True: please pass an explicit value to suppress this warning.\n",
      "  \"\"\"\n"
     ]
    }
   ],
   "source": [
    "import matplotlib.pyplot as plt\n",
    "transactio_per_w= data.groupby(\"extraction_week\").amount.mean()\n",
    "plt.scatter(transactio_per_w.index,transactio_per_w.values)\n",
    "plt.show()\n",
    "transactio_per_w.to_csv(path+\"per_w_amount.csv\")"
   ]
  },
  {
   "cell_type": "code",
   "execution_count": 64,
   "metadata": {},
   "outputs": [
    {
     "data": {
      "text/plain": [
       "(merchant_suburb\n",
       " Pantapin    829.765\n",
       " Name: amount, dtype: float64, merchant_suburb\n",
       " Abbotsford           400.858000\n",
       " Aberdeen              26.225000\n",
       " Aberfeldie            57.770000\n",
       " Aberfoyle Park        42.460000\n",
       " Acacia Ridge          10.300000\n",
       " Adelaide              40.582727\n",
       " Adelaide Airport      61.115000\n",
       " Advancetown           45.130000\n",
       " Airport West          24.564000\n",
       " Albany                25.592069\n",
       " Albert Park           42.570000\n",
       " Alberton              13.050000\n",
       " Albion                69.833333\n",
       " Albion Park Rail      20.540000\n",
       " Alderley              18.750000\n",
       " Aldgate               80.820000\n",
       " Alexander Heights     32.410000\n",
       " Alexandra             20.125000\n",
       " Alexandra Hills       13.475714\n",
       " Alexandria            53.126429\n",
       " Algester              19.620000\n",
       " Alice Spring           9.350000\n",
       " Allambie Heights      21.865000\n",
       " Allenby Gardens       19.960000\n",
       " Allora                 4.715000\n",
       " Alphington           229.560000\n",
       " Alpine                30.730000\n",
       " Alstonville           17.398000\n",
       " Altona               334.643333\n",
       " Altona Meadows        25.480000\n",
       "                         ...    \n",
       " Woongoolba            14.683333\n",
       " Woori Yallock         16.940000\n",
       " Worongary              8.970000\n",
       " Worrigee              53.360000\n",
       " Wyalong               40.870000\n",
       " Wyndham Vale          16.800000\n",
       " Wynnum West           20.440000\n",
       " Wynyard               18.125000\n",
       " Yagoona               20.600000\n",
       " Yallingup             11.370000\n",
       " Yamanto               21.320000\n",
       " Yamba                 13.015000\n",
       " Yangebup              16.875000\n",
       " Yarra Glen            38.530000\n",
       " Yarra Junction         6.982500\n",
       " Yarralumla            28.680000\n",
       " Yarraman              44.420000\n",
       " Yarraville            53.730000\n",
       " Yarrawonga            27.760769\n",
       " Yass                  26.009167\n",
       " Yatala                19.842500\n",
       " Yeppoon               18.816667\n",
       " Yokine                19.006667\n",
       " York                  20.526364\n",
       " Yowah                 14.817000\n",
       " Yulara                80.070000\n",
       " Yungaburra            35.126667\n",
       " Zetland               26.156667\n",
       " Zillmere              38.630000\n",
       " Zuccoli               39.675000\n",
       " Name: amount, Length: 1609, dtype: float64)"
      ]
     },
     "execution_count": 64,
     "metadata": {},
     "output_type": "execute_result"
    }
   ],
   "source": [
    "suburbs_avg=data.groupby([\"merchant_suburb\"]).amount.mean()\n",
    "suburbs_avg[suburbs_avg==suburbs_avg.max()],suburbs_avg # don't have the merchant data"
   ]
  },
  {
   "cell_type": "code",
   "execution_count": 63,
   "metadata": {},
   "outputs": [
    {
     "data": {
      "text/html": [
       "<div>\n",
       "<style scoped>\n",
       "    .dataframe tbody tr th:only-of-type {\n",
       "        vertical-align: middle;\n",
       "    }\n",
       "\n",
       "    .dataframe tbody tr th {\n",
       "        vertical-align: top;\n",
       "    }\n",
       "\n",
       "    .dataframe thead th {\n",
       "        text-align: right;\n",
       "    }\n",
       "</style>\n",
       "<table border=\"1\" class=\"dataframe\">\n",
       "  <thead>\n",
       "    <tr style=\"text-align: right;\">\n",
       "      <th></th>\n",
       "      <th>status</th>\n",
       "      <th>card_present_flag</th>\n",
       "      <th>bpay_biller_code</th>\n",
       "      <th>account</th>\n",
       "      <th>currency</th>\n",
       "      <th>long_lat</th>\n",
       "      <th>txn_description</th>\n",
       "      <th>merchant_id</th>\n",
       "      <th>merchant_code</th>\n",
       "      <th>first_name</th>\n",
       "      <th>...</th>\n",
       "      <th>merchant_state</th>\n",
       "      <th>extraction</th>\n",
       "      <th>amount</th>\n",
       "      <th>transaction_id</th>\n",
       "      <th>country</th>\n",
       "      <th>customer_id</th>\n",
       "      <th>merchant_long_lat</th>\n",
       "      <th>movement</th>\n",
       "      <th>extraction_month</th>\n",
       "      <th>extraction_week</th>\n",
       "    </tr>\n",
       "  </thead>\n",
       "  <tbody>\n",
       "    <tr>\n",
       "      <th>2401</th>\n",
       "      <td>posted</td>\n",
       "      <td>NaN</td>\n",
       "      <td>0</td>\n",
       "      <td>ACC-1523339231</td>\n",
       "      <td>AUD</td>\n",
       "      <td>115.83 -31.90</td>\n",
       "      <td>PAY/SALARY</td>\n",
       "      <td>NaN</td>\n",
       "      <td>0.0</td>\n",
       "      <td>Tim</td>\n",
       "      <td>...</td>\n",
       "      <td>NaN</td>\n",
       "      <td>2018-08-20 13:00:00+00:00</td>\n",
       "      <td>8835.98</td>\n",
       "      <td>b608ce5142664a79af4fa071a886c8f7</td>\n",
       "      <td>Australia</td>\n",
       "      <td>CUS-1816693151</td>\n",
       "      <td>NaN</td>\n",
       "      <td>credit</td>\n",
       "      <td>8</td>\n",
       "      <td>34</td>\n",
       "    </tr>\n",
       "    <tr>\n",
       "      <th>6529</th>\n",
       "      <td>posted</td>\n",
       "      <td>NaN</td>\n",
       "      <td>0</td>\n",
       "      <td>ACC-1523339231</td>\n",
       "      <td>AUD</td>\n",
       "      <td>115.83 -31.90</td>\n",
       "      <td>PAY/SALARY</td>\n",
       "      <td>NaN</td>\n",
       "      <td>0.0</td>\n",
       "      <td>Tim</td>\n",
       "      <td>...</td>\n",
       "      <td>NaN</td>\n",
       "      <td>2018-09-20 13:00:00+00:00</td>\n",
       "      <td>8835.98</td>\n",
       "      <td>854ded55d0034ac8b9e91e16334768ca</td>\n",
       "      <td>Australia</td>\n",
       "      <td>CUS-1816693151</td>\n",
       "      <td>NaN</td>\n",
       "      <td>credit</td>\n",
       "      <td>9</td>\n",
       "      <td>38</td>\n",
       "    </tr>\n",
       "    <tr>\n",
       "      <th>10429</th>\n",
       "      <td>posted</td>\n",
       "      <td>NaN</td>\n",
       "      <td>0</td>\n",
       "      <td>ACC-1523339231</td>\n",
       "      <td>AUD</td>\n",
       "      <td>115.83 -31.90</td>\n",
       "      <td>PAY/SALARY</td>\n",
       "      <td>NaN</td>\n",
       "      <td>0.0</td>\n",
       "      <td>Tim</td>\n",
       "      <td>...</td>\n",
       "      <td>NaN</td>\n",
       "      <td>2018-10-19 13:00:00+00:00</td>\n",
       "      <td>8835.98</td>\n",
       "      <td>873a3f11d03d41a99c55a5b1a3850e1a</td>\n",
       "      <td>Australia</td>\n",
       "      <td>CUS-1816693151</td>\n",
       "      <td>NaN</td>\n",
       "      <td>credit</td>\n",
       "      <td>10</td>\n",
       "      <td>42</td>\n",
       "    </tr>\n",
       "    <tr>\n",
       "      <th>10430</th>\n",
       "      <td>posted</td>\n",
       "      <td>NaN</td>\n",
       "      <td>0</td>\n",
       "      <td>ACC-1523339231</td>\n",
       "      <td>AUD</td>\n",
       "      <td>115.83 -31.90</td>\n",
       "      <td>PAY/SALARY</td>\n",
       "      <td>NaN</td>\n",
       "      <td>0.0</td>\n",
       "      <td>Tim</td>\n",
       "      <td>...</td>\n",
       "      <td>NaN</td>\n",
       "      <td>2018-10-19 13:00:00+00:00</td>\n",
       "      <td>8835.98</td>\n",
       "      <td>d996300131a641c8bf25f86e1aef9bc6</td>\n",
       "      <td>Australia</td>\n",
       "      <td>CUS-1816693151</td>\n",
       "      <td>NaN</td>\n",
       "      <td>credit</td>\n",
       "      <td>10</td>\n",
       "      <td>42</td>\n",
       "    </tr>\n",
       "  </tbody>\n",
       "</table>\n",
       "<p>4 rows × 25 columns</p>\n",
       "</div>"
      ],
      "text/plain": [
       "       status  card_present_flag bpay_biller_code         account currency  \\\n",
       "2401   posted                NaN                0  ACC-1523339231      AUD   \n",
       "6529   posted                NaN                0  ACC-1523339231      AUD   \n",
       "10429  posted                NaN                0  ACC-1523339231      AUD   \n",
       "10430  posted                NaN                0  ACC-1523339231      AUD   \n",
       "\n",
       "            long_lat txn_description merchant_id  merchant_code first_name  \\\n",
       "2401   115.83 -31.90      PAY/SALARY         NaN            0.0        Tim   \n",
       "6529   115.83 -31.90      PAY/SALARY         NaN            0.0        Tim   \n",
       "10429  115.83 -31.90      PAY/SALARY         NaN            0.0        Tim   \n",
       "10430  115.83 -31.90      PAY/SALARY         NaN            0.0        Tim   \n",
       "\n",
       "       ...  merchant_state                extraction   amount  \\\n",
       "2401   ...             NaN 2018-08-20 13:00:00+00:00  8835.98   \n",
       "6529   ...             NaN 2018-09-20 13:00:00+00:00  8835.98   \n",
       "10429  ...             NaN 2018-10-19 13:00:00+00:00  8835.98   \n",
       "10430  ...             NaN 2018-10-19 13:00:00+00:00  8835.98   \n",
       "\n",
       "                         transaction_id    country     customer_id  \\\n",
       "2401   b608ce5142664a79af4fa071a886c8f7  Australia  CUS-1816693151   \n",
       "6529   854ded55d0034ac8b9e91e16334768ca  Australia  CUS-1816693151   \n",
       "10429  873a3f11d03d41a99c55a5b1a3850e1a  Australia  CUS-1816693151   \n",
       "10430  d996300131a641c8bf25f86e1aef9bc6  Australia  CUS-1816693151   \n",
       "\n",
       "      merchant_long_lat  movement extraction_month extraction_week  \n",
       "2401                NaN    credit                8              34  \n",
       "6529                NaN    credit                9              38  \n",
       "10429               NaN    credit               10              42  \n",
       "10430               NaN    credit               10              42  \n",
       "\n",
       "[4 rows x 25 columns]"
      ]
     },
     "execution_count": 63,
     "metadata": {},
     "output_type": "execute_result"
    }
   ],
   "source": [
    "data[data.amount==data.amount.max()] # don't have the merchant data"
   ]
  },
  {
   "cell_type": "code",
   "execution_count": null,
   "metadata": {},
   "outputs": [],
   "source": []
  }
 ],
 "metadata": {
  "kernelspec": {
   "display_name": "Python 3",
   "language": "python",
   "name": "python3"
  },
  "language_info": {
   "codemirror_mode": {
    "name": "ipython",
    "version": 3
   },
   "file_extension": ".py",
   "mimetype": "text/x-python",
   "name": "python",
   "nbconvert_exporter": "python",
   "pygments_lexer": "ipython3",
   "version": "3.7.3"
  }
 },
 "nbformat": 4,
 "nbformat_minor": 2
}
