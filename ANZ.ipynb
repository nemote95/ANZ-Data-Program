{
 "cells": [
  {
   "cell_type": "code",
   "execution_count": 2,
   "metadata": {},
   "outputs": [],
   "source": [
    "import pandas as pd\n",
    "import numpy as np"
   ]
  },
  {
   "cell_type": "markdown",
   "metadata": {},
   "source": [
    "# Task1 - Exploratory Data Analysis"
   ]
  },
  {
   "cell_type": "markdown",
   "metadata": {},
   "source": [
    "## Loading data"
   ]
  },
  {
   "cell_type": "code",
   "execution_count": 3,
   "metadata": {},
   "outputs": [],
   "source": [
    "path=\"path to the dataset"\n",
    "data=pd.read_excel(path+\"ANZ synthesised transaction dataset.xlsx\")"
   ]
  },
  {
   "cell_type": "markdown",
   "metadata": {},
   "source": [
    "# Exploring data issues\n",
    "We started by looking at the data to find data issues and see whether the data need some cleaning. We found out that the data is missed for some of merchant data, Bpay biller code and card present flags. However, the data entries are unique and have consistent formats. Although the transactions are for 91 days( form 01/08/2018 to 31/10/2018), there are only 91 unique days. Therefore, the transactions for one of the days in this period is missing (16/08/2018). All customers were in Australia except 1 person. "
   ]
  },
  {
   "cell_type": "markdown",
   "metadata": {},
   "source": [
    "# Overal statistical insights\n",
    "There are 12044 transactions in 92 days in this dataset. The amount of transactions are in the range of \\\\$0.1 - \\\\$8835.98, with an average of \\\\$187.93 . \\%64 of transactions where authorised and the rest were posted. October had the highest avarage amount of transactions (\\\\$196.42) than August and September. Week 44 had the highest average amount of transactions however, there were some other days in earlier weeks which were in the peak. Credit cards had higher average amount of transaction (\\%1898.72) than debit cards(\\%52.57). ACT state had the highest average transaction (\\\\$66.80) among the states and Pantapin was the suburb with highest average transaction amount (\\\\$829.76). \n",
    "\n",
    "The customers age range is from 18 to 78 which most of them are younder than 39. However, customers in age 26 had minimum average transaction while a customer in age 52 had the highest average amount of transaction. \\% 47 of customers were female and the rest were male. Male customers had higher average transaction amount (\\\\$205.721809) than female customers (\\\\$168.517303)."
   ]
  },
  {
   "cell_type": "code",
   "execution_count": 3,
   "metadata": {},
   "outputs": [
    {
     "data": {
      "text/html": [
       "<div>\n",
       "<style scoped>\n",
       "    .dataframe tbody tr th:only-of-type {\n",
       "        vertical-align: middle;\n",
       "    }\n",
       "\n",
       "    .dataframe tbody tr th {\n",
       "        vertical-align: top;\n",
       "    }\n",
       "\n",
       "    .dataframe thead th {\n",
       "        text-align: right;\n",
       "    }\n",
       "</style>\n",
       "<table border=\"1\" class=\"dataframe\">\n",
       "  <thead>\n",
       "    <tr style=\"text-align: right;\">\n",
       "      <th></th>\n",
       "      <th>card_present_flag</th>\n",
       "      <th>merchant_code</th>\n",
       "      <th>balance</th>\n",
       "      <th>age</th>\n",
       "      <th>amount</th>\n",
       "    </tr>\n",
       "  </thead>\n",
       "  <tbody>\n",
       "    <tr>\n",
       "      <th>count</th>\n",
       "      <td>7717.000000</td>\n",
       "      <td>883.0</td>\n",
       "      <td>12043.000000</td>\n",
       "      <td>12043.000000</td>\n",
       "      <td>12043.000000</td>\n",
       "    </tr>\n",
       "    <tr>\n",
       "      <th>mean</th>\n",
       "      <td>0.802644</td>\n",
       "      <td>0.0</td>\n",
       "      <td>14704.195553</td>\n",
       "      <td>30.582330</td>\n",
       "      <td>187.933588</td>\n",
       "    </tr>\n",
       "    <tr>\n",
       "      <th>std</th>\n",
       "      <td>0.398029</td>\n",
       "      <td>0.0</td>\n",
       "      <td>31503.722652</td>\n",
       "      <td>10.046343</td>\n",
       "      <td>592.599934</td>\n",
       "    </tr>\n",
       "    <tr>\n",
       "      <th>min</th>\n",
       "      <td>0.000000</td>\n",
       "      <td>0.0</td>\n",
       "      <td>0.240000</td>\n",
       "      <td>18.000000</td>\n",
       "      <td>0.100000</td>\n",
       "    </tr>\n",
       "    <tr>\n",
       "      <th>25%</th>\n",
       "      <td>1.000000</td>\n",
       "      <td>0.0</td>\n",
       "      <td>3158.585000</td>\n",
       "      <td>22.000000</td>\n",
       "      <td>16.000000</td>\n",
       "    </tr>\n",
       "    <tr>\n",
       "      <th>50%</th>\n",
       "      <td>1.000000</td>\n",
       "      <td>0.0</td>\n",
       "      <td>6432.010000</td>\n",
       "      <td>28.000000</td>\n",
       "      <td>29.000000</td>\n",
       "    </tr>\n",
       "    <tr>\n",
       "      <th>75%</th>\n",
       "      <td>1.000000</td>\n",
       "      <td>0.0</td>\n",
       "      <td>12465.945000</td>\n",
       "      <td>38.000000</td>\n",
       "      <td>53.655000</td>\n",
       "    </tr>\n",
       "    <tr>\n",
       "      <th>max</th>\n",
       "      <td>1.000000</td>\n",
       "      <td>0.0</td>\n",
       "      <td>267128.520000</td>\n",
       "      <td>78.000000</td>\n",
       "      <td>8835.980000</td>\n",
       "    </tr>\n",
       "  </tbody>\n",
       "</table>\n",
       "</div>"
      ],
      "text/plain": [
       "       card_present_flag  merchant_code        balance           age  \\\n",
       "count        7717.000000          883.0   12043.000000  12043.000000   \n",
       "mean            0.802644            0.0   14704.195553     30.582330   \n",
       "std             0.398029            0.0   31503.722652     10.046343   \n",
       "min             0.000000            0.0       0.240000     18.000000   \n",
       "25%             1.000000            0.0    3158.585000     22.000000   \n",
       "50%             1.000000            0.0    6432.010000     28.000000   \n",
       "75%             1.000000            0.0   12465.945000     38.000000   \n",
       "max             1.000000            0.0  267128.520000     78.000000   \n",
       "\n",
       "             amount  \n",
       "count  12043.000000  \n",
       "mean     187.933588  \n",
       "std      592.599934  \n",
       "min        0.100000  \n",
       "25%       16.000000  \n",
       "50%       29.000000  \n",
       "75%       53.655000  \n",
       "max     8835.980000  "
      ]
     },
     "execution_count": 3,
     "metadata": {},
     "output_type": "execute_result"
    }
   ],
   "source": [
    "#dispalying statitical description of the dataset \n",
    "data.describe()"
   ]
  },
  {
   "cell_type": "code",
   "execution_count": 18,
   "metadata": {},
   "outputs": [
    {
     "name": "stdout",
     "output_type": "stream",
     "text": [
      "average amount of transactions in each month extraction_month\n",
      "8     185.121867\n",
      "9     182.045903\n",
      "10    196.427323\n",
      "Name: amount, dtype: float64\n"
     ]
    }
   ],
   "source": [
    "# finding the average amount of transactions in each month\n",
    "data[\"extraction\"]=pd.to_datetime(data.extraction)\n",
    "data[\"extraction_month\"]=data.extraction.dt.month\n",
    "data[\"extraction_week\"]=data.extraction.dt.week\n",
    "print(\"average amount of transactions in each month\", data.groupby([\"extraction_month\"]).amount.mean())"
   ]
  },
  {
   "cell_type": "code",
   "execution_count": 19,
   "metadata": {},
   "outputs": [
    {
     "name": "stdout",
     "output_type": "stream",
     "text": [
      "proportion of status of transactions status\n",
      "authorized    0.640787\n",
      "posted        0.359213\n",
      "Name: transaction_id, dtype: float64\n"
     ]
    }
   ],
   "source": [
    "#proportion of different status in transactions\n",
    "print(\"proportion of status of transactions\", data.groupby([\"status\"]).transaction_id.count()/data.shape[0])"
   ]
  },
  {
   "cell_type": "code",
   "execution_count": 16,
   "metadata": {},
   "outputs": [
    {
     "name": "stdout",
     "output_type": "stream",
     "text": [
      "proportion of different genders in customers gender\n",
      "F    0.47812\n",
      "M    0.52188\n",
      "Name: transaction_id, dtype: float64\n",
      "\n",
      "average transaction amount by male and female customers gender\n",
      "F    168.517303\n",
      "M    205.721809\n",
      "Name: amount, dtype: float64\n"
     ]
    }
   ],
   "source": [
    "#proportion of different genders in customers\n",
    "print(\"proportion of different genders in customers\", data.groupby([\"gender\"]).transaction_id.count()/data.shape[0])\n",
    "# average of transactions in gender level\n",
    "print(\"\\naverage transaction amount by male and female customers\" ,data.groupby([\"gender\"]).amount.mean())"
   ]
  },
  {
   "cell_type": "code",
   "execution_count": 21,
   "metadata": {},
   "outputs": [
    {
     "name": "stdout",
     "output_type": "stream",
     "text": [
      "age of customers with lowest and highest average amount of transactions age\n",
      "26    98.939406\n",
      "Name: amount, dtype: float64 age\n",
      "52    418.742468\n",
      "Name: amount, dtype: float64\n"
     ]
    }
   ],
   "source": [
    "mean_age=data.groupby([\"age\"]).amount.mean()\n",
    "min_age = mean_age[mean_age==mean_age.min()]\n",
    "max_age = mean_age[mean_age==mean_age.max()]\n",
    "print(\"age of customers with lowest and highest average amount of transactions\", min_age, max_age)"
   ]
  },
  {
   "cell_type": "code",
   "execution_count": 23,
   "metadata": {},
   "outputs": [
    {
     "name": "stdout",
     "output_type": "stream",
     "text": [
      "average amount of transactions by debit vs credit card movement\n",
      "credit    1898.728029\n",
      "debit       52.572343\n",
      "Name: amount, dtype: float64\n"
     ]
    }
   ],
   "source": [
    "print(\"average amount of transactions by debit vs credit card\", data.groupby([\"movement\"]).amount.mean())"
   ]
  },
  {
   "cell_type": "code",
   "execution_count": 56,
   "metadata": {},
   "outputs": [
    {
     "data": {
      "image/png": "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\n",
      "text/plain": [
       "<Figure size 1080x216 with 1 Axes>"
      ]
     },
     "metadata": {
      "needs_background": "light"
     },
     "output_type": "display_data"
    }
   ],
   "source": [
    "#ploting average daily transactions \n",
    "import matplotlib.pyplot as plt\n",
    "from datetime import datetime\n",
    "transactio_perday= data.groupby(\"date\").amount.mean()\n",
    "#transactio_perday.to_csv(path+\"per_day_amount.csv\")\n",
    "fig,ax = plt.subplots(figsize=(15,3))\n",
    "plt.plot(list(transactio_perday.index.values),transactio_perday.values)\n",
    "fig.autofmt_xdate(rotation=45)\n",
    "ax.set_ylabel(\"average amount of transaction\")\n",
    "plt.grid(True)\n",
    "plt.show()"
   ]
  },
  {
   "cell_type": "code",
   "execution_count": 59,
   "metadata": {},
   "outputs": [
    {
     "data": {
      "image/png": "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\n",
      "text/plain": [
       "<Figure size 432x288 with 1 Axes>"
      ]
     },
     "metadata": {
      "needs_background": "light"
     },
     "output_type": "display_data"
    }
   ],
   "source": [
    "#ploting average weekly transactions\n",
    "import matplotlib.pyplot as plt\n",
    "transactio_per_w= data.groupby(\"extraction_week\").amount.mean()\n",
    "fig,ax = plt.subplots()\n",
    "plt.plot(transactio_per_w.index,transactio_per_w.values)\n",
    "ax.set_ylabel(\"average amount of transactions\")\n",
    "ax.set_xlabel(\"thee number of the week\")\n",
    "plt.show()"
   ]
  },
  {
   "cell_type": "code",
   "execution_count": 70,
   "metadata": {},
   "outputs": [
    {
     "name": "stdout",
     "output_type": "stream",
     "text": [
      "merchant_state\n",
      "TAS    28.866618\n",
      "WA     30.901873\n",
      "QLD    34.372397\n",
      "SA     40.425470\n",
      "VIC    41.099953\n",
      "NT     44.726293\n",
      "NSW    47.036316\n",
      "ACT    66.803836\n",
      "Name: amount, dtype: float64\n"
     ]
    }
   ],
   "source": [
    "#average amount of transactions in different states\n",
    "state_avg=data.groupby([\"merchant_state\"]).amount.mean().sort_values()\n",
    "print(state_avg)"
   ]
  },
  {
   "cell_type": "code",
   "execution_count": 71,
   "metadata": {},
   "outputs": [
    {
     "name": "stdout",
     "output_type": "stream",
     "text": [
      "merchant_suburb\n",
      "Carbrook             2.080000\n",
      "Woombye              2.540000\n",
      "Clyde North          2.980000\n",
      "Lindum               3.460000\n",
      "Hallidays Point      3.860000\n",
      "Marsfield            3.960000\n",
      "Aveley               4.308000\n",
      "Dover Heights        4.490000\n",
      "Larrakeyah           4.560000\n",
      "Tottenham            4.570000\n",
      "Coomera              4.658571\n",
      "Allora               4.715000\n",
      "Duaringa             5.040000\n",
      "Bullsbrook           5.050000\n",
      "Gumdale              5.090000\n",
      "Melba                5.270000\n",
      "Miller               5.500000\n",
      "Merrimac             5.570000\n",
      "North Dandalup       5.660000\n",
      "Sheldon              5.710000\n",
      "Dutton Park          5.710000\n",
      "Trafalgar            5.730000\n",
      "Waterford West       5.800000\n",
      "Redbank Plains       5.890000\n",
      "Tweed Heads          5.943333\n",
      "Karnup               5.950000\n",
      "Barrington           6.000000\n",
      "Sydney Airport       6.040000\n",
      "Henley Beach         6.050000\n",
      "Cumberland Park      6.050000\n",
      "                      ...    \n",
      "Malvern            173.688261\n",
      "Keperra            206.785000\n",
      "St Kilda           213.705000\n",
      "Kingswood          220.610000\n",
      "Petrie             226.820000\n",
      "Alphington         229.560000\n",
      "Enfield            249.025000\n",
      "East Melbourne     255.293333\n",
      "Ashfield           256.235000\n",
      "Beechmont          261.680000\n",
      "Virginia           274.640000\n",
      "Rochedale          326.185000\n",
      "Altona             334.643333\n",
      "East Ryde          348.210000\n",
      "Keilor Park        367.622000\n",
      "Mount Pritchard    389.065000\n",
      "Abbotsford         400.858000\n",
      "Melrose Park       404.300000\n",
      "Mascot             411.304800\n",
      "Beaconsfield       446.796667\n",
      "Mount Gravatt      453.523333\n",
      "Deakin             491.506667\n",
      "Fairlight          496.760000\n",
      "Mossman Gorge      501.670000\n",
      "Lowlands           524.580000\n",
      "Parap              553.918333\n",
      "South Brisbane     559.075238\n",
      "West Wodonga       559.330000\n",
      "Gladesville        734.100000\n",
      "Pantapin           829.765000\n",
      "Name: amount, Length: 1609, dtype: float64\n"
     ]
    }
   ],
   "source": [
    "#average amount of transactions in different suburbs\n",
    "suburbs_avg=data.groupby([\"merchant_suburb\"]).amount.mean().sort_values()\n",
    "print(suburbs_avg)"
   ]
  },
  {
   "cell_type": "code",
   "execution_count": null,
   "metadata": {},
   "outputs": [],
   "source": []
  }
 ],
 "metadata": {
  "kernelspec": {
   "display_name": "Python 3",
   "language": "python",
   "name": "python3"
  },
  "language_info": {
   "codemirror_mode": {
    "name": "ipython",
    "version": 3
   },
   "file_extension": ".py",
   "mimetype": "text/x-python",
   "name": "python",
   "nbconvert_exporter": "python",
   "pygments_lexer": "ipython3",
   "version": "3.7.3"
  }
 },
 "nbformat": 4,
 "nbformat_minor": 2
}
